{
 "cells": [
  {
   "cell_type": "code",
   "execution_count": 1,
   "metadata": {},
   "outputs": [
    {
     "name": "stderr",
     "output_type": "stream",
     "text": [
      "Using TensorFlow backend.\n"
     ]
    }
   ],
   "source": [
    "import tensorflow as tf\n",
    "import numpy as np\n",
    "import keras\n",
    "import matplotlib.pyplot as plt\n",
    "from keras.layers import Dense, Activation, Dropout\n",
    "from keras import regularizers\n",
    "from keras import backend as K\n",
    "from keras.wrappers.scikit_learn import KerasClassifier, KerasRegressor\n",
    "import eli5\n",
    "from eli5.sklearn import PermutationImportance\n",
    "import matplotlib.pyplot as plt\n",
    "import os\n",
    "\n",
    "os.environ[\"KMP_DUPLICATE_LIB_OK\"]=\"TRUE\"\n",
    "\n",
    "%matplotlib inline\n",
    "np.random.seed(20181111)"
   ]
  },
  {
   "cell_type": "code",
   "execution_count": 2,
   "metadata": {},
   "outputs": [
    {
     "name": "stdout",
     "output_type": "stream",
     "text": [
      "Dataset:  (472, 15)\n",
      "X_train shape: (378, 15)\n",
      "y_train shape: (378,)\n",
      "X_test shape: (94, 15)\n",
      "y_test shape: (94,)\n"
     ]
    }
   ],
   "source": [
    "num_training=378\n",
    "models = []\n",
    "histories = []\n",
    "\n",
    "def load_data():\n",
    "    data = np.loadtxt('Trim_Removal_2.csv', delimiter=',', skiprows=1)\n",
    "    #mean = np.mean(data, axis=0, keepdims=True)\n",
    "    #delta = data - mean\n",
    "    #std = np.sqrt(np.mean(delta**2, axis=0, keepdims=True))\n",
    "    #data = delta / std\n",
    "    \n",
    "    #data_max = np.max(data, axis=0, keepdims=True)\n",
    "    #data = data / data_max \n",
    "    \n",
    "    np.random.shuffle(data) \n",
    "    \n",
    "    X = data[:, 1:]\n",
    "    y = data[:, 0]\n",
    "\n",
    "    return X, y\n",
    "\n",
    "X, y = load_data();\n",
    "X, y = load_data();\n",
    "\n",
    "print('Dataset: ', X.shape)\n",
    "\n",
    "X_train = X[:num_training, :]\n",
    "y_train = y[:num_training]\n",
    "\n",
    "X_test = X[num_training:, :]\n",
    "y_test = y[num_training:]\n",
    "\n",
    "print(\"X_train shape:\", X_train.shape)\n",
    "print(\"y_train shape:\", y_train.shape)\n",
    "print(\"X_test shape:\", X_test.shape)\n",
    "print(\"y_test shape:\", y_test.shape)"
   ]
  },
  {
   "cell_type": "code",
   "execution_count": 3,
   "metadata": {
    "scrolled": true
   },
   "outputs": [
    {
     "name": "stdout",
     "output_type": "stream",
     "text": [
      "(None, 1)\n",
      "(None, 1)\n",
      "94/94 [==============================] - 0s 89us/step\n",
      "94/94 [==============================] - 0s 119us/step\n",
      "94/94 [==============================] - 0s 148us/step\n",
      "94/94 [==============================] - 0s 108us/step\n",
      "94/94 [==============================] - 0s 273us/step\n",
      "94/94 [==============================] - 0s 414us/step\n",
      "94/94 [==============================] - 0s 283us/step\n",
      "94/94 [==============================] - 0s 249us/step\n",
      "94/94 [==============================] - 0s 249us/step\n",
      "94/94 [==============================] - 0s 127us/step\n",
      "94/94 [==============================] - 0s 69us/step\n",
      "94/94 [==============================] - 0s 205us/step\n",
      "94/94 [==============================] - 0s 122us/step\n",
      "94/94 [==============================] - 0s 62us/step\n",
      "94/94 [==============================] - 0s 89us/step\n",
      "94/94 [==============================] - 0s 233us/step\n",
      "94/94 [==============================] - 0s 73us/step\n",
      "94/94 [==============================] - 0s 118us/step\n",
      "94/94 [==============================] - 0s 106us/step\n",
      "94/94 [==============================] - 0s 128us/step\n",
      "94/94 [==============================] - 0s 86us/step\n",
      "94/94 [==============================] - 0s 165us/step\n",
      "94/94 [==============================] - 0s 129us/step\n",
      "94/94 [==============================] - 0s 142us/step\n",
      "94/94 [==============================] - 0s 63us/step\n",
      "94/94 [==============================] - 0s 66us/step\n",
      "94/94 [==============================] - 0s 120us/step\n",
      "94/94 [==============================] - 0s 144us/step\n",
      "94/94 [==============================] - 0s 88us/step\n",
      "94/94 [==============================] - 0s 98us/step\n",
      "94/94 [==============================] - 0s 243us/step\n",
      "94/94 [==============================] - 0s 86us/step\n",
      "94/94 [==============================] - 0s 91us/step\n",
      "94/94 [==============================] - 0s 93us/step\n",
      "94/94 [==============================] - 0s 176us/step\n",
      "94/94 [==============================] - 0s 108us/step\n",
      "94/94 [==============================] - 0s 83us/step\n",
      "94/94 [==============================] - 0s 109us/step\n",
      "94/94 [==============================] - 0s 91us/step\n",
      "94/94 [==============================] - 0s 81us/step\n",
      "94/94 [==============================] - 0s 71us/step\n",
      "94/94 [==============================] - 0s 62us/step\n",
      "94/94 [==============================] - 0s 100us/step\n",
      "94/94 [==============================] - 0s 84us/step\n",
      "94/94 [==============================] - 0s 93us/step\n",
      "94/94 [==============================] - 0s 70us/step\n",
      "94/94 [==============================] - 0s 93us/step\n",
      "94/94 [==============================] - 0s 80us/step\n",
      "94/94 [==============================] - 0s 76us/step\n",
      "94/94 [==============================] - 0s 99us/step\n",
      "94/94 [==============================] - 0s 87us/step\n",
      "94/94 [==============================] - 0s 67us/step\n",
      "94/94 [==============================] - 0s 85us/step\n",
      "94/94 [==============================] - 0s 65us/step\n",
      "94/94 [==============================] - 0s 89us/step\n",
      "94/94 [==============================] - 0s 74us/step\n",
      "94/94 [==============================] - 0s 65us/step\n",
      "94/94 [==============================] - 0s 101us/step\n",
      "94/94 [==============================] - 0s 72us/step\n",
      "94/94 [==============================] - 0s 76us/step\n",
      "94/94 [==============================] - 0s 77us/step\n",
      "94/94 [==============================] - 0s 73us/step\n",
      "94/94 [==============================] - 0s 90us/step\n",
      "94/94 [==============================] - 0s 83us/step\n",
      "94/94 [==============================] - 0s 126us/step\n",
      "94/94 [==============================] - 0s 96us/step\n",
      "94/94 [==============================] - 0s 80us/step\n",
      "94/94 [==============================] - 0s 95us/step\n",
      "94/94 [==============================] - 0s 102us/step\n",
      "94/94 [==============================] - 0s 71us/step\n",
      "94/94 [==============================] - 0s 71us/step\n",
      "94/94 [==============================] - 0s 70us/step\n",
      "94/94 [==============================] - 0s 87us/step\n",
      "94/94 [==============================] - 0s 60us/step\n",
      "94/94 [==============================] - 0s 78us/step\n",
      "94/94 [==============================] - 0s 64us/step\n"
     ]
    }
   ],
   "source": [
    "activation='relu'\n",
    "\n",
    "def regularizer():\n",
    "    return keras.regularizers.l2(0.0005)\n",
    "\n",
    "dropout = 0.15\n",
    "node_count = 28\n",
    "#model\n",
    "def build_mode():\n",
    "    model = keras.models.Sequential([\n",
    "        Dense(node_count, activation=activation, kernel_initializer='normal', kernel_regularizer=regularizer()),\n",
    "        Dropout(dropout),\n",
    "        Dense(int(node_count / 2), activation=activation, kernel_initializer='normal', kernel_regularizer=regularizer()),\n",
    "        Dropout(dropout),\n",
    "        Dense(int(node_count / 4), activation='relu', kernel_initializer='normal', kernel_regularizer=regularizer()),\n",
    "        Dropout(dropout),\n",
    "        Dense(int(node_count / 6), activation='relu', kernel_initializer='normal', kernel_regularizer=regularizer()),\n",
    "        Dropout(dropout),\n",
    "        Dense(int(node_count / 6), activation='relu', kernel_initializer='normal', kernel_regularizer=regularizer()),\n",
    "        Dropout(dropout),\n",
    "        Dense(1)])\n",
    "\n",
    "\n",
    "    def loss(y_true, y_pred):\n",
    "        SS_res =  K.sum(K.square(y_true - y_pred)) \n",
    "        y_mean = K.mean(y_true)\n",
    "        SS_reg = K.sum(K.square(y_pred - y_mean))\n",
    "        SS_tot = SS_res + SS_reg\n",
    "        print(K.int_shape(y_pred))\n",
    "        return K.abs(SS_res/(SS_tot))\n",
    "# getting r2\n",
    "    def r2(y_true, y_pred):\n",
    "        return 1.0 - loss(y_true, y_pred)\n",
    "\n",
    "    \n",
    "    model.compile(optimizer=keras.optimizers.Adam(lr=0.001),\n",
    "                  loss=loss,\n",
    "                  metrics=[r2, 'mse', 'mae', 'mape', 'cosine'])\n",
    "    models.append(model)\n",
    "    return model\n",
    "\n",
    "wrapped_model = KerasRegressor(build_fn=build_mode)\n",
    "#fit the model\n",
    "history = wrapped_model.fit(X_train, y_train,batch_size=400, epochs=2000, verbose=0, validation_split=0.20)\n",
    "#conducting permutation \n",
    "perm = PermutationImportance(wrapped_model).fit(X_test, y_test)\n",
    "\n",
    "model = models[-1]\n",
    "histories.append(history)\n"
   ]
  },
  {
   "cell_type": "code",
   "execution_count": 4,
   "metadata": {
    "scrolled": true
   },
   "outputs": [
    {
     "data": {
      "text/html": [
       "\n",
       "    <style>\n",
       "    table.eli5-weights tr:hover {\n",
       "        filter: brightness(85%);\n",
       "    }\n",
       "</style>\n",
       "\n",
       "\n",
       "\n",
       "    \n",
       "\n",
       "    \n",
       "\n",
       "    \n",
       "\n",
       "    \n",
       "\n",
       "    \n",
       "\n",
       "    \n",
       "\n",
       "\n",
       "    \n",
       "\n",
       "    \n",
       "\n",
       "    \n",
       "\n",
       "    \n",
       "\n",
       "    \n",
       "\n",
       "    \n",
       "\n",
       "\n",
       "    \n",
       "\n",
       "    \n",
       "\n",
       "    \n",
       "\n",
       "    \n",
       "\n",
       "    \n",
       "        <table class=\"eli5-weights eli5-feature-importances\" style=\"border-collapse: collapse; border: none; margin-top: 0em; table-layout: auto;\">\n",
       "    <thead>\n",
       "    <tr style=\"border: none;\">\n",
       "        <th style=\"padding: 0 1em 0 0.5em; text-align: right; border: none;\">Weight</th>\n",
       "        <th style=\"padding: 0 0.5em 0 0.5em; text-align: left; border: none;\">Feature</th>\n",
       "    </tr>\n",
       "    </thead>\n",
       "    <tbody>\n",
       "    \n",
       "        <tr style=\"background-color: hsl(120, 100.00%, 80.00%); border: none;\">\n",
       "            <td style=\"padding: 0 1em 0 0.5em; text-align: right; border: none;\">\n",
       "                0.0009\n",
       "                \n",
       "                    &plusmn; 0.0067\n",
       "                \n",
       "            </td>\n",
       "            <td style=\"padding: 0 0.5em 0 0.5em; text-align: left; border: none;\">\n",
       "                x8\n",
       "            </td>\n",
       "        </tr>\n",
       "    \n",
       "        <tr style=\"background-color: hsl(120, 100.00%, 84.35%); border: none;\">\n",
       "            <td style=\"padding: 0 1em 0 0.5em; text-align: right; border: none;\">\n",
       "                0.0007\n",
       "                \n",
       "                    &plusmn; 0.0005\n",
       "                \n",
       "            </td>\n",
       "            <td style=\"padding: 0 0.5em 0 0.5em; text-align: left; border: none;\">\n",
       "                x9\n",
       "            </td>\n",
       "        </tr>\n",
       "    \n",
       "        <tr style=\"background-color: hsl(120, 100.00%, 86.77%); border: none;\">\n",
       "            <td style=\"padding: 0 1em 0 0.5em; text-align: right; border: none;\">\n",
       "                0.0005\n",
       "                \n",
       "                    &plusmn; 0.0005\n",
       "                \n",
       "            </td>\n",
       "            <td style=\"padding: 0 0.5em 0 0.5em; text-align: left; border: none;\">\n",
       "                x1\n",
       "            </td>\n",
       "        </tr>\n",
       "    \n",
       "        <tr style=\"background-color: hsl(120, 100.00%, 90.25%); border: none;\">\n",
       "            <td style=\"padding: 0 1em 0 0.5em; text-align: right; border: none;\">\n",
       "                0.0003\n",
       "                \n",
       "                    &plusmn; 0.0008\n",
       "                \n",
       "            </td>\n",
       "            <td style=\"padding: 0 0.5em 0 0.5em; text-align: left; border: none;\">\n",
       "                x0\n",
       "            </td>\n",
       "        </tr>\n",
       "    \n",
       "        <tr style=\"background-color: hsl(120, 100.00%, 97.97%); border: none;\">\n",
       "            <td style=\"padding: 0 1em 0 0.5em; text-align: right; border: none;\">\n",
       "                0.0000\n",
       "                \n",
       "                    &plusmn; 0.0000\n",
       "                \n",
       "            </td>\n",
       "            <td style=\"padding: 0 0.5em 0 0.5em; text-align: left; border: none;\">\n",
       "                x5\n",
       "            </td>\n",
       "        </tr>\n",
       "    \n",
       "        <tr style=\"background-color: hsl(120, 100.00%, 98.71%); border: none;\">\n",
       "            <td style=\"padding: 0 1em 0 0.5em; text-align: right; border: none;\">\n",
       "                0.0000\n",
       "                \n",
       "                    &plusmn; 0.0002\n",
       "                \n",
       "            </td>\n",
       "            <td style=\"padding: 0 0.5em 0 0.5em; text-align: left; border: none;\">\n",
       "                x12\n",
       "            </td>\n",
       "        </tr>\n",
       "    \n",
       "        <tr style=\"background-color: hsl(120, 100.00%, 99.63%); border: none;\">\n",
       "            <td style=\"padding: 0 1em 0 0.5em; text-align: right; border: none;\">\n",
       "                0.0000\n",
       "                \n",
       "                    &plusmn; 0.0000\n",
       "                \n",
       "            </td>\n",
       "            <td style=\"padding: 0 0.5em 0 0.5em; text-align: left; border: none;\">\n",
       "                x10\n",
       "            </td>\n",
       "        </tr>\n",
       "    \n",
       "        <tr style=\"background-color: hsl(120, 100.00%, 99.76%); border: none;\">\n",
       "            <td style=\"padding: 0 1em 0 0.5em; text-align: right; border: none;\">\n",
       "                0.0000\n",
       "                \n",
       "                    &plusmn; 0.0000\n",
       "                \n",
       "            </td>\n",
       "            <td style=\"padding: 0 0.5em 0 0.5em; text-align: left; border: none;\">\n",
       "                x6\n",
       "            </td>\n",
       "        </tr>\n",
       "    \n",
       "        <tr style=\"background-color: hsl(120, 100.00%, 99.85%); border: none;\">\n",
       "            <td style=\"padding: 0 1em 0 0.5em; text-align: right; border: none;\">\n",
       "                0.0000\n",
       "                \n",
       "                    &plusmn; 0.0000\n",
       "                \n",
       "            </td>\n",
       "            <td style=\"padding: 0 0.5em 0 0.5em; text-align: left; border: none;\">\n",
       "                x3\n",
       "            </td>\n",
       "        </tr>\n",
       "    \n",
       "        <tr style=\"background-color: hsl(120, 100.00%, 99.91%); border: none;\">\n",
       "            <td style=\"padding: 0 1em 0 0.5em; text-align: right; border: none;\">\n",
       "                0.0000\n",
       "                \n",
       "                    &plusmn; 0.0000\n",
       "                \n",
       "            </td>\n",
       "            <td style=\"padding: 0 0.5em 0 0.5em; text-align: left; border: none;\">\n",
       "                x4\n",
       "            </td>\n",
       "        </tr>\n",
       "    \n",
       "        <tr style=\"background-color: hsl(120, 100.00%, 99.97%); border: none;\">\n",
       "            <td style=\"padding: 0 1em 0 0.5em; text-align: right; border: none;\">\n",
       "                0.0000\n",
       "                \n",
       "                    &plusmn; 0.0000\n",
       "                \n",
       "            </td>\n",
       "            <td style=\"padding: 0 0.5em 0 0.5em; text-align: left; border: none;\">\n",
       "                x14\n",
       "            </td>\n",
       "        </tr>\n",
       "    \n",
       "        <tr style=\"background-color: hsl(0, 100.00%, 99.99%); border: none;\">\n",
       "            <td style=\"padding: 0 1em 0 0.5em; text-align: right; border: none;\">\n",
       "                -0.0000\n",
       "                \n",
       "                    &plusmn; 0.0000\n",
       "                \n",
       "            </td>\n",
       "            <td style=\"padding: 0 0.5em 0 0.5em; text-align: left; border: none;\">\n",
       "                x13\n",
       "            </td>\n",
       "        </tr>\n",
       "    \n",
       "        <tr style=\"background-color: hsl(0, 100.00%, 99.96%); border: none;\">\n",
       "            <td style=\"padding: 0 1em 0 0.5em; text-align: right; border: none;\">\n",
       "                -0.0000\n",
       "                \n",
       "                    &plusmn; 0.0000\n",
       "                \n",
       "            </td>\n",
       "            <td style=\"padding: 0 0.5em 0 0.5em; text-align: left; border: none;\">\n",
       "                x11\n",
       "            </td>\n",
       "        </tr>\n",
       "    \n",
       "        <tr style=\"background-color: hsl(0, 100.00%, 99.82%); border: none;\">\n",
       "            <td style=\"padding: 0 1em 0 0.5em; text-align: right; border: none;\">\n",
       "                -0.0000\n",
       "                \n",
       "                    &plusmn; 0.0000\n",
       "                \n",
       "            </td>\n",
       "            <td style=\"padding: 0 0.5em 0 0.5em; text-align: left; border: none;\">\n",
       "                x7\n",
       "            </td>\n",
       "        </tr>\n",
       "    \n",
       "        <tr style=\"background-color: hsl(0, 100.00%, 94.20%); border: none;\">\n",
       "            <td style=\"padding: 0 1em 0 0.5em; text-align: right; border: none;\">\n",
       "                -0.0002\n",
       "                \n",
       "                    &plusmn; 0.0004\n",
       "                \n",
       "            </td>\n",
       "            <td style=\"padding: 0 0.5em 0 0.5em; text-align: left; border: none;\">\n",
       "                x2\n",
       "            </td>\n",
       "        </tr>\n",
       "    \n",
       "    \n",
       "    </tbody>\n",
       "</table>\n",
       "    \n",
       "\n",
       "    \n",
       "\n",
       "\n",
       "    \n",
       "\n",
       "    \n",
       "\n",
       "    \n",
       "\n",
       "    \n",
       "\n",
       "    \n",
       "\n",
       "    \n",
       "\n",
       "\n",
       "\n"
      ],
      "text/plain": [
       "<IPython.core.display.HTML object>"
      ]
     },
     "execution_count": 4,
     "metadata": {},
     "output_type": "execute_result"
    }
   ],
   "source": [
    "eli5.show_weights(perm, top=None)\n"
   ]
  },
  {
   "cell_type": "code",
   "execution_count": 1,
   "metadata": {},
   "outputs": [
    {
     "ename": "NameError",
     "evalue": "name 'model' is not defined",
     "output_type": "error",
     "traceback": [
      "\u001b[0;31m---------------------------------------------------------------------------\u001b[0m",
      "\u001b[0;31mNameError\u001b[0m                                 Traceback (most recent call last)",
      "\u001b[0;32m<ipython-input-1-eb52f5db8029>\u001b[0m in \u001b[0;36m<module>\u001b[0;34m\u001b[0m\n\u001b[0;32m----> 1\u001b[0;31m \u001b[0mscore_test\u001b[0m \u001b[0;34m=\u001b[0m \u001b[0mmodel\u001b[0m\u001b[0;34m.\u001b[0m\u001b[0mevaluate\u001b[0m\u001b[0;34m(\u001b[0m\u001b[0mX_test\u001b[0m\u001b[0;34m,\u001b[0m \u001b[0my_test\u001b[0m\u001b[0;34m)\u001b[0m\u001b[0;34m\u001b[0m\u001b[0;34m\u001b[0m\u001b[0m\n\u001b[0m\u001b[1;32m      2\u001b[0m \u001b[0mprint\u001b[0m\u001b[0;34m(\u001b[0m\u001b[0;34m\"Test====\"\u001b[0m\u001b[0;34m)\u001b[0m\u001b[0;34m\u001b[0m\u001b[0;34m\u001b[0m\u001b[0m\n\u001b[1;32m      3\u001b[0m \u001b[0mprint\u001b[0m\u001b[0;34m(\u001b[0m\u001b[0mmodel\u001b[0m\u001b[0;34m.\u001b[0m\u001b[0mmetrics_names\u001b[0m\u001b[0;34m)\u001b[0m\u001b[0;34m\u001b[0m\u001b[0;34m\u001b[0m\u001b[0m\n\u001b[1;32m      4\u001b[0m \u001b[0mprint\u001b[0m\u001b[0;34m(\u001b[0m\u001b[0mscore_test\u001b[0m\u001b[0;34m)\u001b[0m\u001b[0;34m\u001b[0m\u001b[0;34m\u001b[0m\u001b[0m\n",
      "\u001b[0;31mNameError\u001b[0m: name 'model' is not defined"
     ]
    }
   ],
   "source": [
    "score_test = model.evaluate(X_test, y_test)\n",
    "print(\"Test====\")\n",
    "print(model.metrics_names)\n",
    "print(score_test)"
   ]
  },
  {
   "cell_type": "code",
   "execution_count": 6,
   "metadata": {},
   "outputs": [
    {
     "name": "stdout",
     "output_type": "stream",
     "text": [
      "378/378 [==============================] - 0s 221us/step\n",
      "Train====\n",
      "['loss', 'r2', 'mean_squared_error', 'mean_absolute_error', 'mean_absolute_percentage_error', 'cosine_proximity']\n",
      "[0.49959968826758167, 0.5010329554320643, 17.768553900340248, 2.0923204485070768, 423542802.6243386, 0.8677248664633938]\n"
     ]
    }
   ],
   "source": [
    "score_train = model.evaluate(X_train, y_train)\n",
    "print(\"Train====\")\n",
    "print(model.metrics_names)\n",
    "print(score_train)"
   ]
  },
  {
   "cell_type": "code",
   "execution_count": 7,
   "metadata": {},
   "outputs": [
    {
     "data": {
      "text/plain": [
       "[<matplotlib.lines.Line2D at 0x1a3954a828>]"
      ]
     },
     "execution_count": 7,
     "metadata": {},
     "output_type": "execute_result"
    },
    {
     "data": {
      "image/png": "[encoded data removed]",
      "text/plain": [
       "<Figure size 432x288 with 1 Axes>"
      ]
     },
     "metadata": {
      "needs_background": "light"
     },
     "output_type": "display_data"
    }
   ],
   "source": [
    "plot_begin = 0\n",
    "history.history['r2'][plot_begin:]\n",
    "plt.plot(history.history['r2'][plot_begin:])\n",
    "#plt.plot(history.history['r2'][plot_begin:], label=\"Train\")"
   ]
  },
  {
   "cell_type": "code",
   "execution_count": 9,
   "metadata": {},
   "outputs": [
    {
     "data": {
      "image/png": "[encoded data removed]",
      "text/plain": [
       "<Figure size 432x288 with 1 Axes>"
      ]
     },
     "metadata": {
      "needs_background": "light"
     },
     "output_type": "display_data"
    }
   ],
   "source": [
    "plot_begin = 50\n",
    "# plot metrics\n",
    "\n",
    "plt.plot(history.history['r2'][plot_begin:1500], label=\"Train\")\n",
    "plt.plot(history.history['val_r2'][plot_begin:1500], label=\"Val\")\n",
    "plt.ylabel('R-Squared')\n",
    "plt.xlabel('Iterations')\n",
    "plt.title('Trim')\n",
    "#plt.yticks([i*0.1 for i in range(11)])\n",
    "plt.legend()\n",
    "plt.show()"
   ]
  },
  {
   "cell_type": "code",
   "execution_count": 90,
   "metadata": {},
   "outputs": [
    {
     "name": "stdout",
     "output_type": "stream",
     "text": [
      "94/94 [==============================] - 0s 82us/step\n",
      "Test====\n",
      "['loss', 'r2', 'mean_squared_error', 'mean_absolute_error', 'mean_absolute_percentage_error', 'cosine_proximity']\n",
      "[0.4999844495286333, 0.5006482537756575, 8.622017485030154, 1.7535373733398762, 188339787.23404256, 0.8404255331830776]\n",
      "378/378 [==============================] - 0s 58us/step\n",
      "Train====\n",
      "['loss', 'r2', 'mean_squared_error', 'mean_absolute_error', 'mean_absolute_percentage_error', 'cosine_proximity']\n",
      "[0.49959941610457403, 0.501033312429196, 17.759839567557844, 2.091389840242093, 423377105.43915343, 0.8677248664633938]\n"
     ]
    },
    {
     "data": {
      "image/png": "[encoded data removed]",
      "text/plain": [
       "<Figure size 432x288 with 1 Axes>"
      ]
     },
     "metadata": {
      "needs_background": "light"
     },
     "output_type": "display_data"
    },
    {
     "data": {
      "image/png": "[encoded data removed]",
      "text/plain": [
       "<Figure size 432x288 with 1 Axes>"
      ]
     },
     "metadata": {
      "needs_background": "light"
     },
     "output_type": "display_data"
    },
    {
     "data": {
      "image/png": "[encoded data removed]",
      "text/plain": [
       "<Figure size 432x288 with 1 Axes>"
      ]
     },
     "metadata": {
      "needs_background": "light"
     },
     "output_type": "display_data"
    },
    {
     "data": {
      "image/png": "[encoded data removed]",
      "text/plain": [
       "<Figure size 432x288 with 1 Axes>"
      ]
     },
     "metadata": {
      "needs_background": "light"
     },
     "output_type": "display_data"
    }
   ],
   "source": [
    "score_test = model.evaluate(X_test, y_test)\n",
    "print(\"Test====\")\n",
    "print(model.metrics_names)\n",
    "print(score_test)\n",
    "\n",
    "\n",
    "score_train = model.evaluate(X_train, y_train)\n",
    "print(\"Train====\")\n",
    "print(model.metrics_names)\n",
    "print(score_train)\n",
    "\n",
    "plot_begin = 0\n",
    "# plot metrics\n",
    "\n",
    "plt.plot(history.history['r2'][plot_begin:], label=\"Train\")\n",
    "plt.plot(history.history['val_r2'][plot_begin:], label=\"Val\")\n",
    "plt.ylabel('R-Squared')\n",
    "plt.xlabel('Iterations')\n",
    "plt.legend()\n",
    "plt.show()\n",
    "\n",
    "plt.plot(history.history['mean_absolute_percentage_error'][plot_begin:], label=\"MAPE_train\")\n",
    "plt.plot(history.history['val_mean_absolute_percentage_error'][plot_begin:], label=\"MAPE_val\")\n",
    "plt.legend()\n",
    "plt.show()\n",
    "\n",
    "plt.plot(history.history['mean_squared_error'][plot_begin:], label=\"Train\")\n",
    "plt.plot(history.history['val_mean_squared_error'][plot_begin:], label=\"Val\")\n",
    "plt.ylabel('MSE (mg/L)^2')\n",
    "plt.xlabel('Iterations')\n",
    "plt.title('Trim')\n",
    "plt.legend()\n",
    "plt.show()\n",
    "\n",
    "plt.plot(history.history['mean_absolute_error'][plot_begin:], label=\"Train\")\n",
    "plt.plot(history.history['val_mean_absolute_error'][plot_begin:], label=\"Val\")\n",
    "plt.ylabel('MAE')\n",
    "plt.xlabel('Iterations')\n",
    "plt.legend()\n",
    "plt.show()"
   ]
  },
  {
   "cell_type": "code",
   "execution_count": 47,
   "metadata": {},
   "outputs": [
    {
     "name": "stdout",
     "output_type": "stream",
     "text": [
      "_________________________________________________________________\n",
      "Layer (type)                 Output Shape              Param #   \n",
      "=================================================================\n",
      "dense_29 (Dense)             (None, 38)                1482      \n",
      "_________________________________________________________________\n",
      "dropout_22 (Dropout)         (None, 38)                0         \n",
      "_________________________________________________________________\n",
      "dense_30 (Dense)             (None, 19)                741       \n",
      "_________________________________________________________________\n",
      "dropout_23 (Dropout)         (None, 19)                0         \n",
      "_________________________________________________________________\n",
      "dense_31 (Dense)             (None, 9)                 180       \n",
      "_________________________________________________________________\n",
      "dropout_24 (Dropout)         (None, 9)                 0         \n",
      "_________________________________________________________________\n",
      "dense_32 (Dense)             (None, 1)                 10        \n",
      "=================================================================\n",
      "Total params: 2,413\n",
      "Trainable params: 2,413\n",
      "Non-trainable params: 0\n",
      "_________________________________________________________________\n"
     ]
    }
   ],
   "source": [
    "model.summary()"
   ]
  },
  {
   "cell_type": "code",
   "execution_count": 111,
   "metadata": {
    "scrolled": true
   },
   "outputs": [],
   "source": [
    "data = np.loadtxt('Trim_Removal_2.csv', delimiter=',', skiprows=1)\n",
    "results = np.zeros_like(data)\n",
    "features = data[:, 1:]\n",
    "\n",
    "for i in range(features.shape[1]):\n",
    "    input_data = np.array(features, copy=True)\n",
    "    input_data[:, i] *= 1.05\n",
    "    a = model.predict(input_data)\n",
    "    input_data = np.array(features, copy=True)\n",
    "    input_data[:, i] *= 0.95\n",
    "    b = model.predict(input_data)\n",
    "    \n",
    "    results[:, i] = np.reshape((a - b) / b, (-1))\n",
    "\n",
    "results[:, 0] = data[:, 0]\n",
    "\n",
    "header = None\n",
    "with open('Trim_Removal_2.csv', 'r') as f:\n",
    "    header = f.readline().replace('\\n', '')\n",
    "\n",
    "np.savetxt('sensitivity_analysis_TR.csv', results, fmt='%.8f', delimiter=',', header=header, comments='')"
   ]
  },
  {
   "cell_type": "code",
   "execution_count": 49,
   "metadata": {},
   "outputs": [
    {
     "data": {
      "text/plain": [
       "0.29265081882476807"
      ]
     },
     "execution_count": 49,
     "metadata": {},
     "output_type": "execute_result"
    }
   ],
   "source": [
    "history.history['val_r2'][1999]"
   ]
  },
  {
   "cell_type": "code",
   "execution_count": 100,
   "metadata": {},
   "outputs": [],
   "source": [
    "y_pred = model.predict(X_test, batch_size=180)"
   ]
  },
  {
   "cell_type": "code",
   "execution_count": 101,
   "metadata": {},
   "outputs": [
    {
     "data": {
      "text/plain": [
       "array([[3.8011718],\n",
       "       [4.07312  ],\n",
       "       [4.201414 ],\n",
       "       [3.7447574],\n",
       "       [3.9047325],\n",
       "       [4.1486406],\n",
       "       [3.9603558],\n",
       "       [4.1117396],\n",
       "       [2.7058516],\n",
       "       [4.209886 ],\n",
       "       [4.084701 ],\n",
       "       [3.8134165],\n",
       "       [3.7934082],\n",
       "       [3.9946282],\n",
       "       [3.9273179],\n",
       "       [2.4089203],\n",
       "       [3.574252 ],\n",
       "       [3.949491 ],\n",
       "       [4.0884657],\n",
       "       [3.8220608],\n",
       "       [4.2226753],\n",
       "       [4.0161963],\n",
       "       [4.1119895],\n",
       "       [4.134084 ],\n",
       "       [3.85278  ],\n",
       "       [4.218111 ],\n",
       "       [3.7737443],\n",
       "       [3.007832 ],\n",
       "       [3.9122906],\n",
       "       [2.4184904],\n",
       "       [3.7560663],\n",
       "       [4.11657  ],\n",
       "       [4.2224193],\n",
       "       [3.7974656],\n",
       "       [4.0478845],\n",
       "       [3.2596927],\n",
       "       [4.1681495],\n",
       "       [4.0467095],\n",
       "       [4.1288385],\n",
       "       [3.94394  ],\n",
       "       [4.2027307],\n",
       "       [3.8721962],\n",
       "       [4.028664 ],\n",
       "       [3.8411212],\n",
       "       [3.965237 ],\n",
       "       [3.942808 ],\n",
       "       [4.2223454],\n",
       "       [2.6825886],\n",
       "       [4.110445 ],\n",
       "       [3.2269137],\n",
       "       [4.0133877],\n",
       "       [3.8499615],\n",
       "       [3.8226964],\n",
       "       [4.222585 ],\n",
       "       [4.2209144],\n",
       "       [4.1945415],\n",
       "       [4.056202 ],\n",
       "       [4.0555377],\n",
       "       [4.198917 ],\n",
       "       [3.8877022],\n",
       "       [4.1781745],\n",
       "       [4.221995 ],\n",
       "       [3.8024952],\n",
       "       [4.176394 ],\n",
       "       [4.0986943],\n",
       "       [4.0200286],\n",
       "       [4.2226734],\n",
       "       [4.1958942],\n",
       "       [4.2040057],\n",
       "       [3.6723673],\n",
       "       [4.080467 ],\n",
       "       [3.4382021],\n",
       "       [3.9714067],\n",
       "       [3.8882546],\n",
       "       [3.607175 ],\n",
       "       [3.8669484],\n",
       "       [4.2138953],\n",
       "       [4.1845284],\n",
       "       [3.8455791],\n",
       "       [4.218402 ],\n",
       "       [4.024476 ],\n",
       "       [3.9409904],\n",
       "       [3.974426 ],\n",
       "       [4.0318007],\n",
       "       [4.183753 ],\n",
       "       [3.5949023],\n",
       "       [3.7972763],\n",
       "       [3.7233727],\n",
       "       [3.9710102],\n",
       "       [4.177699 ],\n",
       "       [4.182025 ],\n",
       "       [3.9952319],\n",
       "       [4.008075 ],\n",
       "       [4.0193887]], dtype=float32)"
      ]
     },
     "execution_count": 101,
     "metadata": {},
     "output_type": "execute_result"
    }
   ],
   "source": [
    "y_pred"
   ]
  },
  {
   "cell_type": "code",
   "execution_count": 102,
   "metadata": {},
   "outputs": [
    {
     "data": {
      "text/plain": [
       "array([0.03, 0.01, 0.08, 0.28, 0.  , 0.34, 0.03, 0.34, 0.03, 0.08, 0.08,\n",
       "       0.02, 1.95, 0.02, 0.07, 0.02, 0.  , 0.  , 0.  , 0.01, 0.08, 0.01,\n",
       "       0.03, 0.  , 1.24, 1.85, 0.09, 0.  , 0.04, 0.09, 0.  , 0.  , 0.1 ,\n",
       "       0.01, 0.01, 0.09, 0.01, 0.1 , 0.01, 0.04, 0.11, 0.38, 1.3 , 0.03,\n",
       "       0.  , 0.14, 0.04, 0.02, 0.4 , 0.  , 0.  , 0.31, 0.01, 0.04, 0.16,\n",
       "       0.04, 0.29, 0.  , 0.14, 0.01, 0.15, 0.02, 0.  , 0.22, 0.  , 0.03,\n",
       "       0.1 , 0.71, 0.02, 0.08, 0.  , 0.08, 0.07, 0.05, 0.02, 0.02, 0.2 ,\n",
       "       0.01, 0.12, 0.07, 0.07, 0.03, 0.02, 0.03, 0.1 , 0.01, 0.01, 0.02,\n",
       "       0.03, 0.03, 0.16, 0.05, 0.04, 0.01])"
      ]
     },
     "execution_count": 102,
     "metadata": {},
     "output_type": "execute_result"
    }
   ],
   "source": [
    "y_test"
   ]
  },
  {
   "cell_type": "code",
   "execution_count": 103,
   "metadata": {},
   "outputs": [],
   "source": [
    "np.savetxt(\"TR_2_Pre.csv\", y_pred, delimiter=\",\")"
   ]
  },
  {
   "cell_type": "code",
   "execution_count": 104,
   "metadata": {},
   "outputs": [],
   "source": [
    "np.savetxt(\"TR_2_Test.csv\", y_test, delimiter=\",\")"
   ]
  },
  {
   "cell_type": "code",
   "execution_count": 105,
   "metadata": {},
   "outputs": [],
   "source": [
    "data1 = np.loadtxt('TR_2_Pre.csv',delimiter=',',skiprows=0) "
   ]
  },
  {
   "cell_type": "code",
   "execution_count": 106,
   "metadata": {},
   "outputs": [],
   "source": [
    "data2 = np.loadtxt('TR_2_Test.csv',delimiter=',',skiprows=0) "
   ]
  },
  {
   "cell_type": "code",
   "execution_count": 110,
   "metadata": {},
   "outputs": [
    {
     "data": {
      "image/png": "[encoded data removed]",
      "text/plain": [
       "<Figure size 432x288 with 1 Axes>"
      ]
     },
     "metadata": {
      "needs_background": "light"
     },
     "output_type": "display_data"
    }
   ],
   "source": [
    "fit=np.polyfit(data1,data2,1)\n",
    "fit_fn = np.poly1d(fit) \n",
    "plt.plot(data1, fit_fn(data1), '-k',label='y=0.094x-0.22; R-Squared=0.01')\n",
    "plt.ylabel('Nitrate_Observed (mg/L)')\n",
    "plt.xlabel('Nitrate_Predicted (mg/L)')\n",
    "plt.title('Trim + Removal')\n",
    "plt.legend()\n",
    "plt.scatter(data1, data2)\n",
    "plt.show()\n"
   ]
  }
 ],
 "metadata": {
  "kernelspec": {
   "display_name": "Python 3",
   "language": "python",
   "name": "python3"
  },
  "language_info": {
   "codemirror_mode": {
    "name": "ipython",
    "version": 3
   },
   "file_extension": ".py",
   "mimetype": "text/x-python",
   "name": "python",
   "nbconvert_exporter": "python",
   "pygments_lexer": "ipython3",
   "version": "3.6.8"
  }
 },
 "nbformat": 4,
 "nbformat_minor": 2
}
